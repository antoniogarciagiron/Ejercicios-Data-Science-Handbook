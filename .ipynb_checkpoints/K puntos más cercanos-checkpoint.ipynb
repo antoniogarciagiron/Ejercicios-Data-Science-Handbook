{
 "cells": [
  {
   "cell_type": "code",
   "execution_count": 1,
   "id": "exempt-shopping",
   "metadata": {},
   "outputs": [],
   "source": [
    "import numpy as np\n",
    "import pandas as pd\n",
    "import matplotlib.pyplot as plt\n",
    "import seaborn; seaborn.set()\n",
    "from matplotlib.pyplot import figure"
   ]
  },
  {
   "cell_type": "markdown",
   "id": "ecological-pierre",
   "metadata": {},
   "source": [
    "Creamos una tabla de 20 puntos en la que cada una de las dos columnas será una coordenada"
   ]
  },
  {
   "cell_type": "code",
   "execution_count": 2,
   "id": "sudden-vancouver",
   "metadata": {},
   "outputs": [],
   "source": [
    "X = np.random.uniform(0, 10, [20, 2])"
   ]
  },
  {
   "cell_type": "code",
   "execution_count": 3,
   "id": "meaning-blast",
   "metadata": {},
   "outputs": [
    {
     "data": {
      "text/plain": [
       "(20, 2)"
      ]
     },
     "execution_count": 3,
     "metadata": {},
     "output_type": "execute_result"
    }
   ],
   "source": [
    "X.shape"
   ]
  },
  {
   "cell_type": "markdown",
   "id": "amber-hurricane",
   "metadata": {},
   "source": [
    "Pintamos los puntos con \"plt.scatter\", en el eje \"x\" ponemos la primera columna [:, 0], y en el eje \"y\" ponemos los valores de la segunda columna [:, 1]"
   ]
  },
  {
   "cell_type": "code",
   "execution_count": 4,
   "id": "faced-pledge",
   "metadata": {},
   "outputs": [
    {
     "data": {
      "image/png": "[encoded data removed]",
      "text/plain": [
       "<Figure size 432x288 with 1 Axes>"
      ]
     },
     "metadata": {},
     "output_type": "display_data"
    }
   ],
   "source": [
    "plt.scatter(X[:, 0], X[:, 1], s = 100);"
   ]
  },
  {
   "cell_type": "code",
   "execution_count": 5,
   "id": "boxed-seminar",
   "metadata": {},
   "outputs": [
    {
     "data": {
      "text/plain": [
       "(1, 20, 2)"
      ]
     },
     "execution_count": 5,
     "metadata": {},
     "output_type": "execute_result"
    }
   ],
   "source": [
    "X[np.newaxis, :, :].shape"
   ]
  },
  {
   "cell_type": "markdown",
   "id": "incorporated-maximum",
   "metadata": {},
   "source": [
    "La distancia al cuadrado entre dos puntos de puede calcular de la siguiente manera (Según el teorema de Pitágoras):  \n",
    "D(AB)^2 = X(AB)^2 + Y(AB)^2  \n",
    "Operando:  \n",
    "D(AB)^2 = [X(B) - X(A)]^2 + [Y(B) - Y(A)]^2  \n",
    "Es decir, la distancia al cuadrado es igual al cuadrado de la resta de las coordenadas X de ambos puntos, mas el cuadrado de la resta de las coordenadas Y de cada punto"
   ]
  },
  {
   "cell_type": "markdown",
   "id": "super-issue",
   "metadata": {},
   "source": [
    "Creamos una matrix de tres dimensiones 20x20x2:  \n",
    "X[:, np.newaxis, :] crea un elemento de dimensión 20x1x2  \n",
    "X[np.newaxis, :, :] crea un elemento de dimensión 1x20x2  \n",
    "Al restarlos, siguiendo las reglas de \"broadcasting\" se formará una matriz 20x20x2, y se obtiene una matriz donde cada fila representa las distancias en X e Y de cada uno de los puntos respecto a todos los demás  \n",
    "Se elevan al cuadrado y se suman, tal y como se ha visto arriba, obteniendo una matriz 20x20  \n",
    "\"axis = -1\" implica que se suman los elementos de la coordenada tercera, que eran las coordenadas de cada punto, y al operar se han transformado en los cuadrados de las restas, resultando en la distancia al cuadrado\n",
    "Obviamente, las distancias de un punto a sí mismo son cero, por lo tanto la diagonal de la matriz resultante será cero"
   ]
  },
  {
   "cell_type": "code",
   "execution_count": 6,
   "id": "inner-brunei",
   "metadata": {},
   "outputs": [],
   "source": [
    "dist_sq = np.sum((X[:, np.newaxis, :] - X[np.newaxis, :, :]) ** 2, axis = -1)"
   ]
  },
  {
   "cell_type": "code",
   "execution_count": 7,
   "id": "prescribed-restoration",
   "metadata": {},
   "outputs": [
    {
     "data": {
      "text/plain": [
       "(20, 20)"
      ]
     },
     "execution_count": 7,
     "metadata": {},
     "output_type": "execute_result"
    }
   ],
   "source": [
    "dist_sq.shape"
   ]
  },
  {
   "cell_type": "code",
   "execution_count": 8,
   "id": "legislative-covering",
   "metadata": {},
   "outputs": [
    {
     "data": {
      "text/plain": [
       "array([0., 0., 0., 0., 0., 0., 0., 0., 0., 0., 0., 0., 0., 0., 0., 0., 0.,\n",
       "       0., 0., 0.])"
      ]
     },
     "execution_count": 8,
     "metadata": {},
     "output_type": "execute_result"
    }
   ],
   "source": [
    "dist_sq.diagonal()"
   ]
  },
  {
   "cell_type": "markdown",
   "id": "thousand-hopkins",
   "metadata": {},
   "source": [
    "Al \"argpartition\" de un array en K + 1 partes, te coge los K + 1 argumentos (Índice o posición en el array) de los números más pequeños y te los pone a la izquierda del array, el resto te los pone a la derecha en el orden que sea  \n",
    "\"nearest_partition\" te va a coger los índices de las K distancias más cortas de cada punto  \n",
    "Se pone K + 1 porque va a incluirse la distancia de un punto a sí mismo, que siempre va a ser cero, y obviamente no cuenta  \n",
    "\"axis = 1\" va a hacerlo por filas  "
   ]
  },
  {
   "cell_type": "code",
   "execution_count": 9,
   "id": "recent-strip",
   "metadata": {},
   "outputs": [],
   "source": [
    "K = 2\n",
    "nearest_partition = np.argpartition(dist_sq, K + 1, axis = 1)"
   ]
  },
  {
   "cell_type": "markdown",
   "id": "valued-laptop",
   "metadata": {},
   "source": [
    "Por ejemplo, para K = 2, te ha cogido los índices de las 3 distancias más pequeñas, para el primer número son 0, 6 y 16. El 0 es porque es el elemento 0 de la tabla, es decir, la distancia consigo mismo, por tanto no cuenta, y luego tenemos el 6 y el 16, por lo tanto, los puntos más cercanos al punto 1 serán el 7 y el 17 (Hay que recordar que los índices en Python cuentan a partir del 0)  \n",
    "Para punto número 2 (Segunda fila), tenemos los índices 1, 13 y 14. En este caso, al tratarse del segundo punto, el índice de sí mismo es el 1, y al igual que antes, la distancia de un punto a sí mismo no la tenemos en cuenta, luego quedan los puntos 14 y 15. Puede comprobarse abajo que así es."
   ]
  },
  {
   "cell_type": "code",
   "execution_count": 10,
   "id": "scheduled-america",
   "metadata": {},
   "outputs": [
    {
     "data": {
      "text/plain": [
       "array([[ 0,  6, 16, 11, 10,  2,  3,  4,  8,  9,  1,  7, 12, 13, 14, 15,\n",
       "         5, 17, 18, 19],\n",
       "       [ 1, 13, 14, 15, 17, 19,  4, 18,  8,  2, 10, 12,  9, 11,  7,  6,\n",
       "        16,  5,  3,  0],\n",
       "       [ 2,  4,  8,  9, 10, 16,  3, 19,  7,  1,  6, 11, 12, 13, 14, 15,\n",
       "         5, 17, 18,  0],\n",
       "       [ 2,  3,  4,  9, 10,  5, 16,  7,  8,  0,  1, 11, 12, 13, 14, 15,\n",
       "         6, 17, 18, 19]], dtype=int64)"
      ]
     },
     "execution_count": 10,
     "metadata": {},
     "output_type": "execute_result"
    }
   ],
   "source": [
    "nearest_partition[:4]"
   ]
  },
  {
   "cell_type": "markdown",
   "id": "accessory-relation",
   "metadata": {},
   "source": [
    "Pintamos los puntos en rojo  \n",
    "Pintamos las líneas en azul, de cada punto a los K puntos más cercanos  \n",
    "El primer for (i) hace que se itere por todos los puntos, para cada punto:  \n",
    "- Primero te pinta el número de punto\n",
    "- Segundo, hace otra iteración con un for (j), donde te coge los índices de los puntos más cercanos de la tabla nearest_partition. De esta forma, i corresponde al índice del punto actual, y cada j corresponde con el índice del punto más cercano. Estos mismos índices, en la tabla X corresponden con las coordenadas de los puntos directamente, de forma que al hacer una línea de X[j] a X[i] se está trazando la línea de cada punto a sus K puntos más cercanos. Esto se hace con *zip(X[j], X[i])"
   ]
  },
  {
   "cell_type": "code",
   "execution_count": 13,
   "id": "proof-grove",
   "metadata": {},
   "outputs": [
    {
     "data": {
      "image/png": "[encoded data removed]",
      "text/plain": [
       "<Figure size 800x560 with 1 Axes>"
      ]
     },
     "metadata": {},
     "output_type": "display_data"
    }
   ],
   "source": [
    "figure(figsize=(10, 7), dpi=80)\n",
    "plt.scatter(X[:, 0], X[:, 1], s = 150, color = \"red\")\n",
    "K = 1\n",
    "for i in range(X.shape[0]):\n",
    "    plt.text(X[i, 0] * (1 + 0.01), X[i, 1] * (1 + 0.01) , i + 1, fontsize=12)\n",
    "    for j in nearest_partition[i, :K + 1]:\n",
    "        plt.plot(*zip(X[j], X[i]), color = \"blue\")\n",
    "    "
   ]
  },
  {
   "cell_type": "code",
   "execution_count": null,
   "id": "brief-ambassador",
   "metadata": {},
   "outputs": [],
   "source": []
  }
 ],
 "metadata": {
  "kernelspec": {
   "display_name": "Python 3",
   "language": "python",
   "name": "python3"
  },
  "language_info": {
   "codemirror_mode": {
    "name": "ipython",
    "version": 3
   },
   "file_extension": ".py",
   "mimetype": "text/x-python",
   "name": "python",
   "nbconvert_exporter": "python",
   "pygments_lexer": "ipython3",
   "version": "3.8.5"
  }
 },
 "nbformat": 4,
 "nbformat_minor": 5
}
