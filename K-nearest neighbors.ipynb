{
 "cells": [
  {
   "cell_type": "code",
   "execution_count": 150,
   "id": "critical-paragraph",
   "metadata": {},
   "outputs": [
    {
     "data": {
      "text/plain": [
       "<Figure size 800x560 with 0 Axes>"
      ]
     },
     "execution_count": 150,
     "metadata": {},
     "output_type": "execute_result"
    },
    {
     "data": {
      "text/plain": [
       "<Figure size 800x560 with 0 Axes>"
      ]
     },
     "metadata": {},
     "output_type": "display_data"
    }
   ],
   "source": [
    "import numpy as np\n",
    "import pandas as pd\n",
    "import matplotlib.pyplot as plt\n",
    "import seaborn; seaborn.set()\n",
    "from matplotlib.pyplot import figure\n",
    "\n"
   ]
  },
  {
   "cell_type": "code",
   "execution_count": 30,
   "id": "behind-columbia",
   "metadata": {},
   "outputs": [],
   "source": [
    "randstate = np.random.RandomState(42)"
   ]
  },
  {
   "cell_type": "code",
   "execution_count": 134,
   "id": "stopped-hazard",
   "metadata": {},
   "outputs": [],
   "source": [
    "X=randstate.rand(20, 2)"
   ]
  },
  {
   "cell_type": "code",
   "execution_count": 135,
   "id": "reflected-vampire",
   "metadata": {},
   "outputs": [
    {
     "data": {
      "text/plain": [
       "array([[0.31171108, 0.52006802],\n",
       "       [0.54671028, 0.18485446],\n",
       "       [0.96958463, 0.77513282]])"
      ]
     },
     "execution_count": 135,
     "metadata": {},
     "output_type": "execute_result"
    }
   ],
   "source": [
    "X[:3]"
   ]
  },
  {
   "cell_type": "code",
   "execution_count": 151,
   "id": "dedicated-metadata",
   "metadata": {},
   "outputs": [
    {
     "data": {
      "image/png": "[encoded data removed]",
      "text/plain": [
       "<Figure size 432x288 with 1 Axes>"
      ]
     },
     "metadata": {},
     "output_type": "display_data"
    }
   ],
   "source": [
    "plt.scatter(X[:, 0], X[:, 1], s = 100);"
   ]
  },
  {
   "cell_type": "code",
   "execution_count": 137,
   "id": "alternative-arlington",
   "metadata": {},
   "outputs": [
    {
     "data": {
      "text/plain": [
       "(20, 2)"
      ]
     },
     "execution_count": 137,
     "metadata": {},
     "output_type": "execute_result"
    }
   ],
   "source": [
    "X.shape"
   ]
  },
  {
   "cell_type": "code",
   "execution_count": 138,
   "id": "musical-storm",
   "metadata": {},
   "outputs": [],
   "source": [
    "dist_sq = np.sum((X[:, np.newaxis, :] - X[np.newaxis, :, :]) ** 2, axis = -1)"
   ]
  },
  {
   "cell_type": "code",
   "execution_count": 139,
   "id": "approximate-pursuit",
   "metadata": {},
   "outputs": [
    {
     "data": {
      "text/plain": [
       "array([[0.        , 0.16759276, 0.49785566, 0.53456216, 0.24335232,\n",
       "        0.15485772, 0.10893638, 0.06778493, 0.29398802, 0.00145923,\n",
       "        0.1087649 , 0.27416497, 0.31535861, 0.18100894, 0.19979614,\n",
       "        0.41013157, 0.1655628 , 0.31468998, 0.20876922, 0.03798058],\n",
       "       [0.16759276, 0.        , 0.52725127, 0.65834444, 0.54581854,\n",
       "        0.21008737, 0.27121866, 0.03245574, 0.10908858, 0.19868739,\n",
       "        0.54577412, 0.86619082, 0.05105794, 0.69054978, 0.32174926,\n",
       "        0.06270604, 0.040195  , 0.29233748, 0.06128767, 0.07525986],\n",
       "       [0.49785566, 0.52725127, 0.        , 0.01523193, 0.15968252,\n",
       "        1.11173801, 1.05675877, 0.59125144, 0.19487931, 0.52826582,\n",
       "        0.68741053, 0.84592564, 0.37119974, 0.93104292, 0.0711532 ,\n",
       "        0.53085318, 0.80809502, 0.03439202, 0.91425881, 0.63621155],\n",
       "       [0.53456216, 0.65834444, 0.01523193, 0.        , 0.11742139,\n",
       "        1.21259558, 1.12404864, 0.69212971, 0.30179175, 0.55770354,\n",
       "        0.64630196, 0.75661053, 0.51254541, 0.87861166, 0.08161845,\n",
       "        0.7019851 , 0.94437561, 0.07956439, 1.06140323, 0.71952746],\n",
       "       [0.24335232, 0.54581854, 0.15968252, 0.11742139, 0.        ,\n",
       "        0.78641426, 0.66131173, 0.46695717, 0.37264761, 0.24424318,\n",
       "        0.22314948, 0.27812118, 0.5533544 , 0.36223522, 0.04906941,\n",
       "        0.74887229, 0.7069731 , 0.15948056, 0.8079962 , 0.43836179],\n",
       "       [0.15485772, 0.21008737, 1.11173801, 1.21259558, 0.78641426,\n",
       "        0.        , 0.01860265, 0.09579097, 0.57380981, 0.15724398,\n",
       "        0.37024464, 0.62572363, 0.46752463, 0.39063778, 0.66648999,\n",
       "        0.48105451, 0.07930376, 0.78262042, 0.07629669, 0.06619448],\n",
       "       [0.10893638, 0.27121866, 1.05675877, 1.12404864, 0.66131173,\n",
       "        0.01860265, 0.        , 0.12087188, 0.61487567, 0.10280576,\n",
       "        0.23655971, 0.438517  , 0.54458569, 0.24180499, 0.60070932,\n",
       "        0.59028301, 0.14199234, 0.75770618, 0.15013234, 0.07062576],\n",
       "       [0.06778493, 0.03245574, 0.59125144, 0.69212971, 0.46695717,\n",
       "        0.09579097, 0.12087188, 0.        , 0.20094689, 0.08523773,\n",
       "        0.34318113, 0.61067004, 0.15239961, 0.44286619, 0.31068952,\n",
       "        0.18530647, 0.02508676, 0.34894832, 0.04651541, 0.00893464],\n",
       "       [0.29398802, 0.10908858, 0.19487931, 0.30179175, 0.37264761,\n",
       "        0.57380981, 0.61487567, 0.20094689, 0.        , 0.33466283,\n",
       "        0.67150716, 0.96586619, 0.02816733, 0.8880967 , 0.1534277 ,\n",
       "        0.08322667, 0.27918078, 0.07222715, 0.33380745, 0.2690671 ],\n",
       "       [0.00145923, 0.19868739, 0.52826582, 0.55770354, 0.24424318,\n",
       "        0.15724398, 0.10280576, 0.08523773, 0.33466283, 0.        ,\n",
       "        0.0869436 , 0.23989981, 0.35970829, 0.15025292, 0.21612208,\n",
       "        0.4600634 , 0.1881924 , 0.34541734, 0.23206932, 0.04821467],\n",
       "       [0.1087649 , 0.54577412, 0.68741053, 0.64630196, 0.22314948,\n",
       "        0.37024464, 0.23655971, 0.34318113, 0.67150716, 0.0869436 ,\n",
       "        0.        , 0.03851583, 0.76275531, 0.01850968, 0.32563704,\n",
       "        0.92754205, 0.51837032, 0.5535476 , 0.58167707, 0.25646179],\n",
       "       [0.27416497, 0.86619082, 0.84592564, 0.75661053, 0.27812118,\n",
       "        0.62572363, 0.438517  , 0.61067004, 0.96586619, 0.23989981,\n",
       "        0.03851583, 0.        , 1.10799102, 0.03415164, 0.46631374,\n",
       "        1.31869938, 0.83927992, 0.75401231, 0.91824966, 0.49375161],\n",
       "       [0.31535861, 0.05105794, 0.37119974, 0.51254541, 0.5533544 ,\n",
       "        0.46752463, 0.54458569, 0.15239961, 0.02816733, 0.35970829,\n",
       "        0.76275531, 1.10799102, 0.        , 0.96823894, 0.28548458,\n",
       "        0.01554382, 0.17807666, 0.18852555, 0.21305445, 0.22875711],\n",
       "       [0.18100894, 0.69054978, 0.93104292, 0.87861166, 0.36223522,\n",
       "        0.39063778, 0.24180499, 0.44286619, 0.8880967 , 0.15025292,\n",
       "        0.01850968, 0.03415164, 0.96823894, 0.        , 0.49934544,\n",
       "        1.13606919, 0.61399868, 0.77237244, 0.67122772, 0.33367856],\n",
       "       [0.19979614, 0.32174926, 0.0711532 , 0.08161845, 0.04906941,\n",
       "        0.66648999, 0.60070932, 0.31068952, 0.1534277 , 0.21612208,\n",
       "        0.32563704, 0.46631374, 0.28548458, 0.49934544, 0.        ,\n",
       "        0.43312493, 0.49731506, 0.03558724, 0.58416754, 0.31979073],\n",
       "       [0.41013157, 0.06270604, 0.53085318, 0.7019851 , 0.74887229,\n",
       "        0.48105451, 0.59028301, 0.18530647, 0.08322667, 0.4600634 ,\n",
       "        0.92754205, 1.31869938, 0.01554382, 1.13606919, 0.43312493,\n",
       "        0.        , 0.17215693, 0.31011269, 0.19403774, 0.2749357 ],\n",
       "       [0.1655628 , 0.040195  , 0.80809502, 0.94437561, 0.7069731 ,\n",
       "        0.07930376, 0.14199234, 0.02508676, 0.27918078, 0.1881924 ,\n",
       "        0.51837032, 0.83927992, 0.17807666, 0.61399868, 0.49731506,\n",
       "        0.17215693, 0.        , 0.51214346, 0.00349639, 0.04606713],\n",
       "       [0.31468998, 0.29233748, 0.03439202, 0.07956439, 0.15948056,\n",
       "        0.78262042, 0.75770618, 0.34894832, 0.07222715, 0.34541734,\n",
       "        0.5535476 , 0.75401231, 0.18852555, 0.77237244, 0.03558724,\n",
       "        0.31011269, 0.51214346, 0.        , 0.59655121, 0.39371015],\n",
       "       [0.20876922, 0.06128767, 0.91425881, 1.06140323, 0.8079962 ,\n",
       "        0.07629669, 0.15013234, 0.04651541, 0.33380745, 0.23206932,\n",
       "        0.58167707, 0.91824966, 0.21305445, 0.67122772, 0.58416754,\n",
       "        0.19403774, 0.00349639, 0.59655121, 0.        , 0.06884426],\n",
       "       [0.03798058, 0.07525986, 0.63621155, 0.71952746, 0.43836179,\n",
       "        0.06619448, 0.07062576, 0.00893464, 0.2690671 , 0.04821467,\n",
       "        0.25646179, 0.49375161, 0.22875711, 0.33367856, 0.31979073,\n",
       "        0.2749357 , 0.04606713, 0.39371015, 0.06884426, 0.        ]])"
      ]
     },
     "execution_count": 139,
     "metadata": {},
     "output_type": "execute_result"
    }
   ],
   "source": [
    "dist_sq"
   ]
  },
  {
   "cell_type": "code",
   "execution_count": 140,
   "id": "functioning-profile",
   "metadata": {},
   "outputs": [
    {
     "data": {
      "text/plain": [
       "(20, 20, 2)"
      ]
     },
     "execution_count": 140,
     "metadata": {},
     "output_type": "execute_result"
    }
   ],
   "source": [
    "differences = X[:, np.newaxis, :] - X[np.newaxis, :, :]\n",
    "differences.shape"
   ]
  },
  {
   "cell_type": "code",
   "execution_count": 141,
   "id": "confident-virus",
   "metadata": {},
   "outputs": [
    {
     "data": {
      "text/plain": [
       "(20, 20, 2)"
      ]
     },
     "execution_count": 141,
     "metadata": {},
     "output_type": "execute_result"
    }
   ],
   "source": [
    "sq_differences = differences ** 2\n",
    "sq_differences.shape"
   ]
  },
  {
   "cell_type": "code",
   "execution_count": 142,
   "id": "dress-attraction",
   "metadata": {},
   "outputs": [
    {
     "data": {
      "text/plain": [
       "(20, 20)"
      ]
     },
     "execution_count": 142,
     "metadata": {},
     "output_type": "execute_result"
    }
   ],
   "source": [
    "dist_sq = sq_differences.sum(-1)\n",
    "dist_sq.shape"
   ]
  },
  {
   "cell_type": "code",
   "execution_count": 143,
   "id": "enclosed-snowboard",
   "metadata": {},
   "outputs": [
    {
     "data": {
      "text/plain": [
       "array([0., 0., 0., 0., 0., 0., 0., 0., 0., 0., 0., 0., 0., 0., 0., 0., 0.,\n",
       "       0., 0., 0.])"
      ]
     },
     "execution_count": 143,
     "metadata": {},
     "output_type": "execute_result"
    }
   ],
   "source": [
    "dist_sq.diagonal()"
   ]
  },
  {
   "cell_type": "code",
   "execution_count": 144,
   "id": "burning-possibility",
   "metadata": {},
   "outputs": [
    {
     "name": "stdout",
     "output_type": "stream",
     "text": [
      "[[ 0  9 19  7 10  6  5 16  1 13 14 18  4 11  8 17 12 15  2  3]\n",
      " [ 1  7 16 12 18 15 19  8  0  9  5  6 17 14  2 10  4  3 13 11]\n",
      " [ 2  3 17 14  4  8 12  0  1  9 15  7 19 10 16 11 18 13  6  5]\n",
      " [ 3  2 17 14  4  8 12  0  9 10  1  7 15 19 11 13 16 18  6  5]\n",
      " [ 4 14  3 17  2 10  0  9 11 13  8 19  7  1 12  6 16 15  5 18]\n",
      " [ 5  6 19 18 16  7  0  9  1 10 13 12 15  8 11 14 17  4  2  3]\n",
      " [ 6  5 19  9  0  7 16 18 10 13  1 11 12 15 14  8  4 17  2  3]\n",
      " [ 7 19 16  1 18  0  9  5  6 12 15  8 14 10 17 13  4  2 11  3]\n",
      " [ 8 12 17 15  1 14  2  7 19 16  0  3 18  9  4  5  6 10 13 11]\n",
      " [ 9  0 19  7 10  6 13  5 16  1 14 18 11  4  8 17 12 15  2  3]\n",
      " [10 13 11  9  0  4  6 19 14  7  5 16  1 17 18  3  8  2 12 15]\n",
      " [11 13 10  9  0  4  6 14 19  7  5 17  3 16  2  1 18  8 12 15]\n",
      " [12 15  8  1  7 16 17 18 19 14  0  9  2  5  3  6  4 10 13 11]\n",
      " [13 10 11  9  0  6 19  4  5  7 14 16 18  1 17  3  8  2 12 15]\n",
      " [14 17  4  2  3  8  0  9 12  7 19  1 10 15 11 16 13 18  6  5]\n",
      " [15 12  1  8 16  7 18 19 17  0 14  9  5  2  6  3  4 10 13 11]\n",
      " [16 18  7  1 19  5  6  0 15 12  9  8 14 17 10 13  4  2 11  3]\n",
      " [17  2 14  8  3  4 12  1 15  0  9  7 19 16 10 18 11  6 13  5]\n",
      " [18 16  7  1 19  5  6 15  0 12  9  8 10 14 17 13  4  2 11  3]\n",
      " [19  7  0 16  9  5 18  6  1 12 10  8 15 14 13 17  4 11  2  3]]\n"
     ]
    }
   ],
   "source": [
    "nearest = np.argsort(dist_sq, axis = 1)\n",
    "print(nearest)"
   ]
  },
  {
   "cell_type": "code",
   "execution_count": 145,
   "id": "remarkable-moderator",
   "metadata": {},
   "outputs": [],
   "source": [
    "K = 2\n",
    "nearest_partition = np.argpartition(dist_sq, K + 1, axis = 1)"
   ]
  },
  {
   "cell_type": "code",
   "execution_count": 152,
   "id": "centered-population",
   "metadata": {},
   "outputs": [
    {
     "data": {
      "image/png": "[encoded data removed]",
      "text/plain": [
       "<Figure size 800x560 with 1 Axes>"
      ]
     },
     "metadata": {},
     "output_type": "display_data"
    }
   ],
   "source": [
    "figure(figsize=(10, 7), dpi=80)\n",
    "plt.scatter(X[:, 0], X[:, 1], s = 100)\n",
    "K = 2\n",
    "for i in range(X.shape[0]):\n",
    "    for j in nearest_partition[i, :K + 1]:\n",
    "        plt.plot(*zip(X[j], X[i]), color = \"black\")"
   ]
  },
  {
   "cell_type": "code",
   "execution_count": null,
   "id": "extreme-destiny",
   "metadata": {},
   "outputs": [],
   "source": []
  },
  {
   "cell_type": "code",
   "execution_count": null,
   "id": "golden-booking",
   "metadata": {},
   "outputs": [],
   "source": []
  }
 ],
 "metadata": {
  "kernelspec": {
   "display_name": "Python 3",
   "language": "python",
   "name": "python3"
  },
  "language_info": {
   "codemirror_mode": {
    "name": "ipython",
    "version": 3
   },
   "file_extension": ".py",
   "mimetype": "text/x-python",
   "name": "python",
   "nbconvert_exporter": "python",
   "pygments_lexer": "ipython3",
   "version": "3.8.5"
  }
 },
 "nbformat": 4,
 "nbformat_minor": 5
}
